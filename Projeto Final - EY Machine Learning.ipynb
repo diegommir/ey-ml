{
 "cells": [
  {
   "cell_type": "markdown",
   "metadata": {},
   "source": [
    "# Projeto Final\n",
    "\n",
    "O objetivo deste projeto é criar as bases de um sistema capaz de auxiliar deficientes visuais na identificação de objetos no mundo à sua volta."
   ]
  },
  {
   "cell_type": "markdown",
   "metadata": {},
   "source": [
    "Primeiramente é necessário garantir que todas as dependências estão instaladas."
   ]
  },
  {
   "cell_type": "markdown",
   "metadata": {},
   "source": [
    "Estes são todos os imports necessários para rodar este Notebook."
   ]
  },
  {
   "cell_type": "code",
   "execution_count": 1,
   "metadata": {},
   "outputs": [
    {
     "name": "stderr",
     "output_type": "stream",
     "text": [
      "/Users/diego/Documents/Workspace/ey-ml/.venv/lib/python3.10/site-packages/tqdm/auto.py:22: TqdmWarning: IProgress not found. Please update jupyter and ipywidgets. See https://ipywidgets.readthedocs.io/en/stable/user_install.html\n",
      "  from .autonotebook import tqdm as notebook_tqdm\n"
     ]
    }
   ],
   "source": [
    "import torch\n",
    "import pandas as pd\n",
    "from gtts import gTTS"
   ]
  },
  {
   "cell_type": "markdown",
   "metadata": {},
   "source": [
    "Agora vamos carregar o modelo pré-treinado do hub do Torch. Esse modelo é baseado na YOLOv5 e está pré-treinada com a base COCO Dataset. Caso seja a primeira execução, a API vai realizar o download automático do modelo. Mas caso o modelo já tiver sido baixado, a API do Torch consegue reaproveitar o arquivo, ficando mais rápida a carga.\n",
    "\n",
    "Esse dataset de imagens possui 80 categorias de objetos diversos. Futuramente é possível treinar o modelo com outros datasets, como o do OpenImages do Google, que possui 600 categorias por exemplo.\n",
    "\n",
    "O endereço do projeto YOLOv5 é: https://github.com/ultralytics/yolov5\n",
    "O endereço do projeto COCO Dataset é: https://cocodataset.org/"
   ]
  },
  {
   "cell_type": "code",
   "execution_count": 2,
   "metadata": {},
   "outputs": [
    {
     "name": "stderr",
     "output_type": "stream",
     "text": [
      "Using cache found in /Users/diego/.cache/torch/hub/ultralytics_yolov5_master\n",
      "YOLOv5 🚀 2022-10-23 Python-3.10.7 torch-1.12.1 CPU\n",
      "\n",
      "Fusing layers... \n",
      "YOLOv5x6 summary: 574 layers, 140730220 parameters, 0 gradients\n",
      "Adding AutoShape... \n"
     ]
    }
   ],
   "source": [
    "# Load Model (yolov5s, yolov5x6)\n",
    "model = torch.hub.load('ultralytics/yolov5', 'yolov5x6')"
   ]
  },
  {
   "cell_type": "markdown",
   "metadata": {},
   "source": [
    "Esta função recebe uma imagem, que é então enviada para o modelo realizar a detecção dos objetos contidos na mesma. A função retorna um dataframe do Pandas com as informações de todos os objetos identificados."
   ]
  },
  {
   "cell_type": "code",
   "execution_count": 3,
   "metadata": {},
   "outputs": [],
   "source": [
    "def infer_img(img):\n",
    "    '''\n",
    "    Esta função recebe uma imagem e retorna um Pandas dataframe com os objetos identificados.\n",
    "    '''\n",
    "    results = model(img)\n",
    "\n",
    "    df = pd.DataFrame(results.pandas().xyxy[0])\n",
    "    return df"
   ]
  },
  {
   "cell_type": "markdown",
   "metadata": {},
   "source": [
    "Esta função recebe o dataframe gerado e é responsável por \"contar\" os objetos dentro da imagem. Ela retorna um dicionário onde o 'key' é o nome do objeto e o 'value' é o número de ocorrências dentro da imagem."
   ]
  },
  {
   "cell_type": "code",
   "execution_count": 4,
   "metadata": {},
   "outputs": [],
   "source": [
    "def get_result(df):\n",
    "    result = {}\n",
    "    def count_names(name):\n",
    "        i = 0\n",
    "        try:\n",
    "            i = result[name]\n",
    "        except:\n",
    "            pass\n",
    "        i += 1\n",
    "        result[name] = i\n",
    "\n",
    "    df['name'].map(count_names)\n",
    "    return result"
   ]
  },
  {
   "cell_type": "markdown",
   "metadata": {},
   "source": [
    "Estas duas funções são responsáveis por gerar um texto reprensentando os objetos encontrados (ou não) na imagem. A função 'get_text' retorna uma string com a descrição dos objetos da imagem."
   ]
  },
  {
   "cell_type": "code",
   "execution_count": 5,
   "metadata": {},
   "outputs": [],
   "source": [
    "def get_plural(word, count):\n",
    "    if count > 1:\n",
    "        return word + 's'\n",
    "    else:\n",
    "        return word\n",
    "\n",
    "def get_text(result):\n",
    "    text = ''\n",
    "    if len(result) == 0:\n",
    "        text = 'I wasn\\'t able to identify anything in front of you.'\n",
    "    else:\n",
    "        text = 'There are '\n",
    "        i = 0\n",
    "        for name in result:\n",
    "            i += 1\n",
    "            count = result[name]\n",
    "            text += str(count) + ' ' + get_plural(name, count)\n",
    "            if i == len(result) - 1:\n",
    "                text += ' and '\n",
    "            elif i == len(result):\n",
    "                text += ' '\n",
    "            else:\n",
    "                text += ', '\n",
    "        text += 'in front of you'\n",
    "    return text"
   ]
  },
  {
   "cell_type": "markdown",
   "metadata": {},
   "source": [
    "Esta função recebe o texto gerado o transforma em áudio usando a API do Google Text-to-Speech. Por fim, ela executa o áudio gerado usando a biblioteca 'playsound'."
   ]
  },
  {
   "cell_type": "code",
   "execution_count": 6,
   "metadata": {},
   "outputs": [],
   "source": [
    "def play(text):\n",
    "    if not text:\n",
    "        return\n",
    "    \n",
    "    lang = 'en'\n",
    "\n",
    "    gtts_obj = gTTS(text=text, lang=lang)\n",
    "    gtts_obj.save('audio.wav')\n",
    "\n",
    "    print(text)\n",
    "    from playsound import playsound\n",
    "    playsound('audio.wav')"
   ]
  },
  {
   "cell_type": "markdown",
   "metadata": {},
   "source": [
    "Esta função é responsável por executar o código externo que tira uma foto usando a câmera padrão do dispositivo. Aqui é usado OpenCV para acessar a câmera, tirar a foto e salvá-la temporariamente."
   ]
  },
  {
   "cell_type": "code",
   "execution_count": 7,
   "metadata": {},
   "outputs": [],
   "source": [
    "def take_photo():\n",
    "    !python camera.py"
   ]
  },
  {
   "cell_type": "markdown",
   "metadata": {},
   "source": [
    "Este é o código que poderá ser executado sempre que for necessário identificar os objetos. Posteriormente a idéia é fazer com que o sistema execute esse código atravez de um comando de voz, tornando a iteração manual quase inexistente e facilitando a acessibilidade do usuário final."
   ]
  },
  {
   "cell_type": "code",
   "execution_count": 8,
   "metadata": {},
   "outputs": [
    {
     "name": "stdout",
     "output_type": "stream",
     "text": [
      "There are 1 person in front of you\n"
     ]
    }
   ],
   "source": [
    "\n",
    "take_photo()\n",
    "df = infer_img('image.jpg')\n",
    "result = get_result(df)\n",
    "text = get_text(result)\n",
    "play(text)"
   ]
  },
  {
   "cell_type": "code",
   "execution_count": null,
   "metadata": {},
   "outputs": [],
   "source": []
  }
 ],
 "metadata": {
  "kernelspec": {
   "display_name": ".venv",
   "language": "python",
   "name": ".venv"
  },
  "language_info": {
   "codemirror_mode": {
    "name": "ipython",
    "version": 3
   },
   "file_extension": ".py",
   "mimetype": "text/x-python",
   "name": "python",
   "nbconvert_exporter": "python",
   "pygments_lexer": "ipython3",
   "version": "3.10.7"
  },
  "vscode": {
   "interpreter": {
    "hash": "a32cffcf89ad5cbfffe09daf321ec7a1767388d1140d44d9c348d43191935f4e"
   }
  }
 },
 "nbformat": 4,
 "nbformat_minor": 4
}
