{
 "cells": [
  {
   "cell_type": "markdown",
   "metadata": {},
   "source": [
    "# Projeto Final\n",
    "\n",
    "O objetivo deste projeto é criar as bases de um sistema capaz de auxiliar deficientes visuais na identificação de objetos no mundo à sua volta."
   ]
  },
  {
   "cell_type": "markdown",
   "metadata": {},
   "source": [
    "Primeiramente é necessário garantir que todas as dependências estão instaladas."
   ]
  },
  {
   "cell_type": "code",
   "execution_count": 53,
   "metadata": {},
   "outputs": [
    {
     "name": "stdout",
     "output_type": "stream",
     "text": [
      "Requirement already satisfied: playsound in ./.venv/lib/python3.10/site-packages (from -r requirements.txt (line 2)) (1.3.0)\n",
      "Requirement already satisfied: PyObjC in ./.venv/lib/python3.10/site-packages (from -r requirements.txt (line 3)) (8.5.1)\n",
      "Requirement already satisfied: matplotlib>=3.2.2 in ./.venv/lib/python3.10/site-packages (from -r requirements.txt (line 9)) (3.6.0)\n",
      "Requirement already satisfied: numpy>=1.18.5 in ./.venv/lib/python3.10/site-packages (from -r requirements.txt (line 10)) (1.23.4)\n",
      "Requirement already satisfied: opencv-python>=4.1.1 in ./.venv/lib/python3.10/site-packages (from -r requirements.txt (line 11)) (4.6.0.66)\n",
      "Requirement already satisfied: Pillow>=7.1.2 in ./.venv/lib/python3.10/site-packages (from -r requirements.txt (line 12)) (9.2.0)\n",
      "Requirement already satisfied: PyYAML>=5.3.1 in ./.venv/lib/python3.10/site-packages (from -r requirements.txt (line 13)) (6.0)\n",
      "Requirement already satisfied: requests>=2.23.0 in ./.venv/lib/python3.10/site-packages (from -r requirements.txt (line 14)) (2.28.1)\n",
      "Requirement already satisfied: scipy>=1.4.1 in ./.venv/lib/python3.10/site-packages (from -r requirements.txt (line 15)) (1.9.3)\n",
      "Requirement already satisfied: torch>=1.7.0 in ./.venv/lib/python3.10/site-packages (from -r requirements.txt (line 16)) (1.12.1)\n",
      "Requirement already satisfied: torchvision>=0.8.1 in ./.venv/lib/python3.10/site-packages (from -r requirements.txt (line 17)) (0.13.1)\n",
      "Requirement already satisfied: tqdm>=4.64.0 in ./.venv/lib/python3.10/site-packages (from -r requirements.txt (line 18)) (4.64.1)\n",
      "Requirement already satisfied: tensorboard>=2.4.1 in ./.venv/lib/python3.10/site-packages (from -r requirements.txt (line 22)) (2.10.1)\n",
      "Requirement already satisfied: pandas>=1.1.4 in ./.venv/lib/python3.10/site-packages (from -r requirements.txt (line 27)) (1.5.1)\n",
      "Requirement already satisfied: seaborn>=0.11.0 in ./.venv/lib/python3.10/site-packages (from -r requirements.txt (line 28)) (0.12.1)\n",
      "Requirement already satisfied: ipython in ./.venv/lib/python3.10/site-packages (from -r requirements.txt (line 45)) (8.5.0)\n",
      "Requirement already satisfied: psutil in ./.venv/lib/python3.10/site-packages (from -r requirements.txt (line 46)) (5.9.3)\n",
      "Requirement already satisfied: thop>=0.1.1 in ./.venv/lib/python3.10/site-packages (from -r requirements.txt (line 47)) (0.1.1.post2209072238)\n",
      "Requirement already satisfied: pyobjc-framework-ExecutionPolicy==8.5.1 in ./.venv/lib/python3.10/site-packages (from PyObjC->-r requirements.txt (line 3)) (8.5.1)\n",
      "Requirement already satisfied: pyobjc-framework-PassKit==8.5.1 in ./.venv/lib/python3.10/site-packages (from PyObjC->-r requirements.txt (line 3)) (8.5.1)\n",
      "Requirement already satisfied: pyobjc-framework-ExternalAccessory==8.5.1 in ./.venv/lib/python3.10/site-packages (from PyObjC->-r requirements.txt (line 3)) (8.5.1)\n",
      "Requirement already satisfied: pyobjc-framework-OSLog==8.5.1 in ./.venv/lib/python3.10/site-packages (from PyObjC->-r requirements.txt (line 3)) (8.5.1)\n",
      "Requirement already satisfied: pyobjc-framework-AppTrackingTransparency==8.5.1 in ./.venv/lib/python3.10/site-packages (from PyObjC->-r requirements.txt (line 3)) (8.5.1)\n",
      "Requirement already satisfied: pyobjc-framework-LaunchServices==8.5.1 in ./.venv/lib/python3.10/site-packages (from PyObjC->-r requirements.txt (line 3)) (8.5.1)\n",
      "Requirement already satisfied: pyobjc-framework-ContactsUI==8.5.1 in ./.venv/lib/python3.10/site-packages (from PyObjC->-r requirements.txt (line 3)) (8.5.1)\n",
      "Requirement already satisfied: pyobjc-framework-CoreLocation==8.5.1 in ./.venv/lib/python3.10/site-packages (from PyObjC->-r requirements.txt (line 3)) (8.5.1)\n",
      "Requirement already satisfied: pyobjc-framework-FSEvents==8.5.1 in ./.venv/lib/python3.10/site-packages (from PyObjC->-r requirements.txt (line 3)) (8.5.1)\n",
      "Requirement already satisfied: pyobjc-framework-Network==8.5.1 in ./.venv/lib/python3.10/site-packages (from PyObjC->-r requirements.txt (line 3)) (8.5.1)\n",
      "Requirement already satisfied: pyobjc-framework-ImageCaptureCore==8.5.1 in ./.venv/lib/python3.10/site-packages (from PyObjC->-r requirements.txt (line 3)) (8.5.1)\n",
      "Requirement already satisfied: pyobjc-framework-CoreBluetooth==8.5.1 in ./.venv/lib/python3.10/site-packages (from PyObjC->-r requirements.txt (line 3)) (8.5.1)\n",
      "Requirement already satisfied: pyobjc-framework-IMServicePlugIn==8.5.1 in ./.venv/lib/python3.10/site-packages (from PyObjC->-r requirements.txt (line 3)) (8.5.1)\n",
      "Requirement already satisfied: pyobjc-framework-GameCenter==8.5.1 in ./.venv/lib/python3.10/site-packages (from PyObjC->-r requirements.txt (line 3)) (8.5.1)\n",
      "Requirement already satisfied: pyobjc-framework-SafariServices==8.5.1 in ./.venv/lib/python3.10/site-packages (from PyObjC->-r requirements.txt (line 3)) (8.5.1)\n",
      "Requirement already satisfied: pyobjc-framework-CoreMotion==8.5.1 in ./.venv/lib/python3.10/site-packages (from PyObjC->-r requirements.txt (line 3)) (8.5.1)\n",
      "Requirement already satisfied: pyobjc-framework-Quartz==8.5.1 in ./.venv/lib/python3.10/site-packages (from PyObjC->-r requirements.txt (line 3)) (8.5.1)\n",
      "Requirement already satisfied: pyobjc-framework-libdispatch==8.5.1 in ./.venv/lib/python3.10/site-packages (from PyObjC->-r requirements.txt (line 3)) (8.5.1)\n",
      "Requirement already satisfied: pyobjc-framework-SystemConfiguration==8.5.1 in ./.venv/lib/python3.10/site-packages (from PyObjC->-r requirements.txt (line 3)) (8.5.1)\n",
      "Requirement already satisfied: pyobjc-framework-ScriptingBridge==8.5.1 in ./.venv/lib/python3.10/site-packages (from PyObjC->-r requirements.txt (line 3)) (8.5.1)\n",
      "Requirement already satisfied: pyobjc-framework-UserNotifications==8.5.1 in ./.venv/lib/python3.10/site-packages (from PyObjC->-r requirements.txt (line 3)) (8.5.1)\n",
      "Requirement already satisfied: pyobjc-framework-FileProviderUI==8.5.1 in ./.venv/lib/python3.10/site-packages (from PyObjC->-r requirements.txt (line 3)) (8.5.1)\n",
      "Requirement already satisfied: pyobjc-core==8.5.1 in ./.venv/lib/python3.10/site-packages (from PyObjC->-r requirements.txt (line 3)) (8.5.1)\n",
      "Requirement already satisfied: pyobjc-framework-CFNetwork==8.5.1 in ./.venv/lib/python3.10/site-packages (from PyObjC->-r requirements.txt (line 3)) (8.5.1)\n",
      "Requirement already satisfied: pyobjc-framework-LocalAuthentication==8.5.1 in ./.venv/lib/python3.10/site-packages (from PyObjC->-r requirements.txt (line 3)) (8.5.1)\n",
      "Requirement already satisfied: pyobjc-framework-AddressBook==8.5.1 in ./.venv/lib/python3.10/site-packages (from PyObjC->-r requirements.txt (line 3)) (8.5.1)\n",
      "Requirement already satisfied: pyobjc-framework-DiskArbitration==8.5.1 in ./.venv/lib/python3.10/site-packages (from PyObjC->-r requirements.txt (line 3)) (8.5.1)\n",
      "Requirement already satisfied: pyobjc-framework-InputMethodKit==8.5.1 in ./.venv/lib/python3.10/site-packages (from PyObjC->-r requirements.txt (line 3)) (8.5.1)\n",
      "Requirement already satisfied: pyobjc-framework-Accessibility==8.5.1 in ./.venv/lib/python3.10/site-packages (from PyObjC->-r requirements.txt (line 3)) (8.5.1)\n",
      "Requirement already satisfied: pyobjc-framework-KernelManagement==8.5.1 in ./.venv/lib/python3.10/site-packages (from PyObjC->-r requirements.txt (line 3)) (8.5.1)\n",
      "Requirement already satisfied: pyobjc-framework-LinkPresentation==8.5.1 in ./.venv/lib/python3.10/site-packages (from PyObjC->-r requirements.txt (line 3)) (8.5.1)\n",
      "Requirement already satisfied: pyobjc-framework-VideoSubscriberAccount==8.5.1 in ./.venv/lib/python3.10/site-packages (from PyObjC->-r requirements.txt (line 3)) (8.5.1)\n",
      "Requirement already satisfied: pyobjc-framework-AuthenticationServices==8.5.1 in ./.venv/lib/python3.10/site-packages (from PyObjC->-r requirements.txt (line 3)) (8.5.1)\n",
      "Requirement already satisfied: pyobjc-framework-CoreMediaIO==8.5.1 in ./.venv/lib/python3.10/site-packages (from PyObjC->-r requirements.txt (line 3)) (8.5.1)\n",
      "Requirement already satisfied: pyobjc-framework-AdSupport==8.5.1 in ./.venv/lib/python3.10/site-packages (from PyObjC->-r requirements.txt (line 3)) (8.5.1)\n",
      "Requirement already satisfied: pyobjc-framework-MailKit==8.5.1 in ./.venv/lib/python3.10/site-packages (from PyObjC->-r requirements.txt (line 3)) (8.5.1)\n",
      "Requirement already satisfied: pyobjc-framework-DictionaryServices==8.5.1 in ./.venv/lib/python3.10/site-packages (from PyObjC->-r requirements.txt (line 3)) (8.5.1)\n",
      "Requirement already satisfied: pyobjc-framework-ScreenSaver==8.5.1 in ./.venv/lib/python3.10/site-packages (from PyObjC->-r requirements.txt (line 3)) (8.5.1)\n",
      "Requirement already satisfied: pyobjc-framework-DiscRecording==8.5.1 in ./.venv/lib/python3.10/site-packages (from PyObjC->-r requirements.txt (line 3)) (8.5.1)\n",
      "Requirement already satisfied: pyobjc-framework-FileProvider==8.5.1 in ./.venv/lib/python3.10/site-packages (from PyObjC->-r requirements.txt (line 3)) (8.5.1)\n",
      "Requirement already satisfied: pyobjc-framework-AdServices==8.5.1 in ./.venv/lib/python3.10/site-packages (from PyObjC->-r requirements.txt (line 3)) (8.5.1)\n",
      "Requirement already satisfied: pyobjc-framework-MediaToolbox==8.5.1 in ./.venv/lib/python3.10/site-packages (from PyObjC->-r requirements.txt (line 3)) (8.5.1)\n",
      "Requirement already satisfied: pyobjc-framework-CoreSpotlight==8.5.1 in ./.venv/lib/python3.10/site-packages (from PyObjC->-r requirements.txt (line 3)) (8.5.1)\n",
      "Requirement already satisfied: pyobjc-framework-Virtualization==8.5.1 in ./.venv/lib/python3.10/site-packages (from PyObjC->-r requirements.txt (line 3)) (8.5.1)\n",
      "Requirement already satisfied: pyobjc-framework-ReplayKit==8.5.1 in ./.venv/lib/python3.10/site-packages (from PyObjC->-r requirements.txt (line 3)) (8.5.1)\n",
      "Requirement already satisfied: pyobjc-framework-ExceptionHandling==8.5.1 in ./.venv/lib/python3.10/site-packages (from PyObjC->-r requirements.txt (line 3)) (8.5.1)\n",
      "Requirement already satisfied: pyobjc-framework-AVFoundation==8.5.1 in ./.venv/lib/python3.10/site-packages (from PyObjC->-r requirements.txt (line 3)) (8.5.1)\n",
      "Requirement already satisfied: pyobjc-framework-ColorSync==8.5.1 in ./.venv/lib/python3.10/site-packages (from PyObjC->-r requirements.txt (line 3)) (8.5.1)\n",
      "Requirement already satisfied: pyobjc-framework-AppleScriptObjC==8.5.1 in ./.venv/lib/python3.10/site-packages (from PyObjC->-r requirements.txt (line 3)) (8.5.1)\n",
      "Requirement already satisfied: pyobjc-framework-AutomaticAssessmentConfiguration==8.5.1 in ./.venv/lib/python3.10/site-packages (from PyObjC->-r requirements.txt (line 3)) (8.5.1)\n",
      "Requirement already satisfied: pyobjc-framework-ClassKit==8.5.1 in ./.venv/lib/python3.10/site-packages (from PyObjC->-r requirements.txt (line 3)) (8.5.1)\n",
      "Requirement already satisfied: pyobjc-framework-MediaAccessibility==8.5.1 in ./.venv/lib/python3.10/site-packages (from PyObjC->-r requirements.txt (line 3)) (8.5.1)\n",
      "Requirement already satisfied: pyobjc-framework-Metal==8.5.1 in ./.venv/lib/python3.10/site-packages (from PyObjC->-r requirements.txt (line 3)) (8.5.1)\n",
      "Requirement already satisfied: pyobjc-framework-CoreHaptics==8.5.1 in ./.venv/lib/python3.10/site-packages (from PyObjC->-r requirements.txt (line 3)) (8.5.1)\n",
      "Requirement already satisfied: pyobjc-framework-FinderSync==8.5.1 in ./.venv/lib/python3.10/site-packages (from PyObjC->-r requirements.txt (line 3)) (8.5.1)\n",
      "Requirement already satisfied: pyobjc-framework-SearchKit==8.5.1 in ./.venv/lib/python3.10/site-packages (from PyObjC->-r requirements.txt (line 3)) (8.5.1)\n",
      "Requirement already satisfied: pyobjc-framework-InstantMessage==8.5.1 in ./.venv/lib/python3.10/site-packages (from PyObjC->-r requirements.txt (line 3)) (8.5.1)\n",
      "Requirement already satisfied: pyobjc-framework-SyncServices==8.5.1 in ./.venv/lib/python3.10/site-packages (from PyObjC->-r requirements.txt (line 3)) (8.5.1)\n",
      "Requirement already satisfied: pyobjc-framework-Photos==8.5.1 in ./.venv/lib/python3.10/site-packages (from PyObjC->-r requirements.txt (line 3)) (8.5.1)\n",
      "Requirement already satisfied: pyobjc-framework-SecurityFoundation==8.5.1 in ./.venv/lib/python3.10/site-packages (from PyObjC->-r requirements.txt (line 3)) (8.5.1)\n",
      "Requirement already satisfied: pyobjc-framework-MLCompute==8.5.1 in ./.venv/lib/python3.10/site-packages (from PyObjC->-r requirements.txt (line 3)) (8.5.1)\n",
      "Requirement already satisfied: pyobjc-framework-VideoToolbox==8.5.1 in ./.venv/lib/python3.10/site-packages (from PyObjC->-r requirements.txt (line 3)) (8.5.1)\n",
      "Requirement already satisfied: pyobjc-framework-LatentSemanticMapping==8.5.1 in ./.venv/lib/python3.10/site-packages (from PyObjC->-r requirements.txt (line 3)) (8.5.1)\n",
      "Requirement already satisfied: pyobjc-framework-CoreWLAN==8.5.1 in ./.venv/lib/python3.10/site-packages (from PyObjC->-r requirements.txt (line 3)) (8.5.1)\n",
      "Requirement already satisfied: pyobjc-framework-MapKit==8.5.1 in ./.venv/lib/python3.10/site-packages (from PyObjC->-r requirements.txt (line 3)) (8.5.1)\n",
      "Requirement already satisfied: pyobjc-framework-ApplicationServices==8.5.1 in ./.venv/lib/python3.10/site-packages (from PyObjC->-r requirements.txt (line 3)) (8.5.1)\n",
      "Requirement already satisfied: pyobjc-framework-MediaLibrary==8.5.1 in ./.venv/lib/python3.10/site-packages (from PyObjC->-r requirements.txt (line 3)) (8.5.1)\n",
      "Requirement already satisfied: pyobjc-framework-MetalPerformanceShaders==8.5.1 in ./.venv/lib/python3.10/site-packages (from PyObjC->-r requirements.txt (line 3)) (8.5.1)\n",
      "Requirement already satisfied: pyobjc-framework-SoundAnalysis==8.5.1 in ./.venv/lib/python3.10/site-packages (from PyObjC->-r requirements.txt (line 3)) (8.5.1)\n",
      "Requirement already satisfied: pyobjc-framework-SecurityInterface==8.5.1 in ./.venv/lib/python3.10/site-packages (from PyObjC->-r requirements.txt (line 3)) (8.5.1)\n",
      "Requirement already satisfied: pyobjc-framework-NetFS==8.5.1 in ./.venv/lib/python3.10/site-packages (from PyObjC->-r requirements.txt (line 3)) (8.5.1)\n",
      "Requirement already satisfied: pyobjc-framework-Collaboration==8.5.1 in ./.venv/lib/python3.10/site-packages (from PyObjC->-r requirements.txt (line 3)) (8.5.1)\n",
      "Requirement already satisfied: pyobjc-framework-GameKit==8.5.1 in ./.venv/lib/python3.10/site-packages (from PyObjC->-r requirements.txt (line 3)) (8.5.1)\n",
      "Requirement already satisfied: pyobjc-framework-InstallerPlugins==8.5.1 in ./.venv/lib/python3.10/site-packages (from PyObjC->-r requirements.txt (line 3)) (8.5.1)\n",
      "Requirement already satisfied: pyobjc-framework-Automator==8.5.1 in ./.venv/lib/python3.10/site-packages (from PyObjC->-r requirements.txt (line 3)) (8.5.1)\n",
      "Requirement already satisfied: pyobjc-framework-CryptoTokenKit==8.5.1 in ./.venv/lib/python3.10/site-packages (from PyObjC->-r requirements.txt (line 3)) (8.5.1)\n",
      "Requirement already satisfied: pyobjc-framework-EventKit==8.5.1 in ./.venv/lib/python3.10/site-packages (from PyObjC->-r requirements.txt (line 3)) (8.5.1)\n",
      "Requirement already satisfied: pyobjc-framework-MetricKit==8.5.1 in ./.venv/lib/python3.10/site-packages (from PyObjC->-r requirements.txt (line 3)) (8.5.1)\n",
      "Requirement already satisfied: pyobjc-framework-Intents==8.5.1 in ./.venv/lib/python3.10/site-packages (from PyObjC->-r requirements.txt (line 3)) (8.5.1)\n",
      "Requirement already satisfied: pyobjc-framework-ShazamKit==8.5.1 in ./.venv/lib/python3.10/site-packages (from PyObjC->-r requirements.txt (line 3)) (8.5.1)\n",
      "Requirement already satisfied: pyobjc-framework-CoreMIDI==8.5.1 in ./.venv/lib/python3.10/site-packages (from PyObjC->-r requirements.txt (line 3)) (8.5.1)\n",
      "Requirement already satisfied: pyobjc-framework-MediaPlayer==8.5.1 in ./.venv/lib/python3.10/site-packages (from PyObjC->-r requirements.txt (line 3)) (8.5.1)\n",
      "Requirement already satisfied: pyobjc-framework-CoreMedia==8.5.1 in ./.venv/lib/python3.10/site-packages (from PyObjC->-r requirements.txt (line 3)) (8.5.1)\n",
      "Requirement already satisfied: pyobjc-framework-CoreData==8.5.1 in ./.venv/lib/python3.10/site-packages (from PyObjC->-r requirements.txt (line 3)) (8.5.1)\n",
      "Requirement already satisfied: pyobjc-framework-LocalAuthenticationEmbeddedUI==8.5.1 in ./.venv/lib/python3.10/site-packages (from PyObjC->-r requirements.txt (line 3)) (8.5.1)\n",
      "Requirement already satisfied: pyobjc-framework-Contacts==8.5.1 in ./.venv/lib/python3.10/site-packages (from PyObjC->-r requirements.txt (line 3)) (8.5.1)\n",
      "Requirement already satisfied: pyobjc-framework-Accounts==8.5.1 in ./.venv/lib/python3.10/site-packages (from PyObjC->-r requirements.txt (line 3)) (8.5.1)\n",
      "Requirement already satisfied: pyobjc-framework-ScreenTime==8.5.1 in ./.venv/lib/python3.10/site-packages (from PyObjC->-r requirements.txt (line 3)) (8.5.1)\n",
      "Requirement already satisfied: pyobjc-framework-SceneKit==8.5.1 in ./.venv/lib/python3.10/site-packages (from PyObjC->-r requirements.txt (line 3)) (8.5.1)\n",
      "Requirement already satisfied: pyobjc-framework-CoreAudioKit==8.5.1 in ./.venv/lib/python3.10/site-packages (from PyObjC->-r requirements.txt (line 3)) (8.5.1)\n",
      "Requirement already satisfied: pyobjc-framework-MultipeerConnectivity==8.5.1 in ./.venv/lib/python3.10/site-packages (from PyObjC->-r requirements.txt (line 3)) (8.5.1)\n",
      "Requirement already satisfied: pyobjc-framework-OpenDirectory==8.5.1 in ./.venv/lib/python3.10/site-packages (from PyObjC->-r requirements.txt (line 3)) (8.5.1)\n",
      "Requirement already satisfied: pyobjc-framework-PreferencePanes==8.5.1 in ./.venv/lib/python3.10/site-packages (from PyObjC->-r requirements.txt (line 3)) (8.5.1)\n",
      "Requirement already satisfied: pyobjc-framework-PushKit==8.5.1 in ./.venv/lib/python3.10/site-packages (from PyObjC->-r requirements.txt (line 3)) (8.5.1)\n",
      "Requirement already satisfied: pyobjc-framework-ScreenCaptureKit==8.5.1 in ./.venv/lib/python3.10/site-packages (from PyObjC->-r requirements.txt (line 3)) (8.5.1)\n",
      "Requirement already satisfied: pyobjc-framework-CoreAudio==8.5.1 in ./.venv/lib/python3.10/site-packages (from PyObjC->-r requirements.txt (line 3)) (8.5.1)\n",
      "Requirement already satisfied: pyobjc-framework-GameplayKit==8.5.1 in ./.venv/lib/python3.10/site-packages (from PyObjC->-r requirements.txt (line 3)) (8.5.1)\n",
      "Requirement already satisfied: pyobjc-framework-SystemExtensions==8.5.1 in ./.venv/lib/python3.10/site-packages (from PyObjC->-r requirements.txt (line 3)) (8.5.1)\n",
      "Requirement already satisfied: pyobjc-framework-CallKit==8.5.1 in ./.venv/lib/python3.10/site-packages (from PyObjC->-r requirements.txt (line 3)) (8.5.1)\n",
      "Requirement already satisfied: pyobjc-framework-GameController==8.5.1 in ./.venv/lib/python3.10/site-packages (from PyObjC->-r requirements.txt (line 3)) (8.5.1)\n",
      "Requirement already satisfied: pyobjc-framework-IntentsUI==8.5.1 in ./.venv/lib/python3.10/site-packages (from PyObjC->-r requirements.txt (line 3)) (8.5.1)\n",
      "Requirement already satisfied: pyobjc-framework-UserNotificationsUI==8.5.1 in ./.venv/lib/python3.10/site-packages (from PyObjC->-r requirements.txt (line 3)) (8.5.1)\n",
      "Requirement already satisfied: pyobjc-framework-ModelIO==8.5.1 in ./.venv/lib/python3.10/site-packages (from PyObjC->-r requirements.txt (line 3)) (8.5.1)\n",
      "Requirement already satisfied: pyobjc-framework-StoreKit==8.5.1 in ./.venv/lib/python3.10/site-packages (from PyObjC->-r requirements.txt (line 3)) (8.5.1)\n",
      "Requirement already satisfied: pyobjc-framework-DiscRecordingUI==8.5.1 in ./.venv/lib/python3.10/site-packages (from PyObjC->-r requirements.txt (line 3)) (8.5.1)\n",
      "Requirement already satisfied: pyobjc-framework-IOSurface==8.5.1 in ./.venv/lib/python3.10/site-packages (from PyObjC->-r requirements.txt (line 3)) (8.5.1)\n",
      "Requirement already satisfied: pyobjc-framework-BusinessChat==8.5.1 in ./.venv/lib/python3.10/site-packages (from PyObjC->-r requirements.txt (line 3)) (8.5.1)\n",
      "Requirement already satisfied: pyobjc-framework-DeviceCheck==8.5.1 in ./.venv/lib/python3.10/site-packages (from PyObjC->-r requirements.txt (line 3)) (8.5.1)\n",
      "Requirement already satisfied: pyobjc-framework-AudioVideoBridging==8.5.1 in ./.venv/lib/python3.10/site-packages (from PyObjC->-r requirements.txt (line 3)) (8.5.1)\n",
      "Requirement already satisfied: pyobjc-framework-SpriteKit==8.5.1 in ./.venv/lib/python3.10/site-packages (from PyObjC->-r requirements.txt (line 3)) (8.5.1)\n",
      "Requirement already satisfied: pyobjc-framework-MetalKit==8.5.1 in ./.venv/lib/python3.10/site-packages (from PyObjC->-r requirements.txt (line 3)) (8.5.1)\n",
      "Requirement already satisfied: pyobjc-framework-DVDPlayback==8.5.1 in ./.venv/lib/python3.10/site-packages (from PyObjC->-r requirements.txt (line 3)) (8.5.1)\n",
      "Requirement already satisfied: pyobjc-framework-CoreText==8.5.1 in ./.venv/lib/python3.10/site-packages (from PyObjC->-r requirements.txt (line 3)) (8.5.1)\n",
      "Requirement already satisfied: pyobjc-framework-OSAKit==8.5.1 in ./.venv/lib/python3.10/site-packages (from PyObjC->-r requirements.txt (line 3)) (8.5.1)\n",
      "Requirement already satisfied: pyobjc-framework-Security==8.5.1 in ./.venv/lib/python3.10/site-packages (from PyObjC->-r requirements.txt (line 3)) (8.5.1)\n",
      "Requirement already satisfied: pyobjc-framework-NaturalLanguage==8.5.1 in ./.venv/lib/python3.10/site-packages (from PyObjC->-r requirements.txt (line 3)) (8.5.1)\n",
      "Requirement already satisfied: pyobjc-framework-QuickLookThumbnailing==8.5.1 in ./.venv/lib/python3.10/site-packages (from PyObjC->-r requirements.txt (line 3)) (8.5.1)\n",
      "Requirement already satisfied: pyobjc-framework-NetworkExtension==8.5.1 in ./.venv/lib/python3.10/site-packages (from PyObjC->-r requirements.txt (line 3)) (8.5.1)\n",
      "Requirement already satisfied: pyobjc-framework-Cocoa==8.5.1 in ./.venv/lib/python3.10/site-packages (from PyObjC->-r requirements.txt (line 3)) (8.5.1)\n",
      "Requirement already satisfied: pyobjc-framework-CoreServices==8.5.1 in ./.venv/lib/python3.10/site-packages (from PyObjC->-r requirements.txt (line 3)) (8.5.1)\n",
      "Requirement already satisfied: pyobjc-framework-CloudKit==8.5.1 in ./.venv/lib/python3.10/site-packages (from PyObjC->-r requirements.txt (line 3)) (8.5.1)\n",
      "Requirement already satisfied: pyobjc-framework-PencilKit==8.5.1 in ./.venv/lib/python3.10/site-packages (from PyObjC->-r requirements.txt (line 3)) (8.5.1)\n",
      "Requirement already satisfied: pyobjc-framework-WebKit==8.5.1 in ./.venv/lib/python3.10/site-packages (from PyObjC->-r requirements.txt (line 3)) (8.5.1)\n",
      "Requirement already satisfied: pyobjc-framework-PhotosUI==8.5.1 in ./.venv/lib/python3.10/site-packages (from PyObjC->-r requirements.txt (line 3)) (8.5.1)\n",
      "Requirement already satisfied: pyobjc-framework-DataDetection==8.5.1 in ./.venv/lib/python3.10/site-packages (from PyObjC->-r requirements.txt (line 3)) (8.5.1)\n",
      "Requirement already satisfied: pyobjc-framework-iTunesLibrary==8.5.1 in ./.venv/lib/python3.10/site-packages (from PyObjC->-r requirements.txt (line 3)) (8.5.1)\n",
      "Requirement already satisfied: pyobjc-framework-UniformTypeIdentifiers==8.5.1 in ./.venv/lib/python3.10/site-packages (from PyObjC->-r requirements.txt (line 3)) (8.5.1)\n",
      "Requirement already satisfied: pyobjc-framework-MetalPerformanceShadersGraph==8.5.1 in ./.venv/lib/python3.10/site-packages (from PyObjC->-r requirements.txt (line 3)) (8.5.1)\n",
      "Requirement already satisfied: pyobjc-framework-Vision==8.5.1 in ./.venv/lib/python3.10/site-packages (from PyObjC->-r requirements.txt (line 3)) (8.5.1)\n",
      "Requirement already satisfied: pyobjc-framework-AVKit==8.5.1 in ./.venv/lib/python3.10/site-packages (from PyObjC->-r requirements.txt (line 3)) (8.5.1)\n",
      "Requirement already satisfied: pyobjc-framework-NotificationCenter==8.5.1 in ./.venv/lib/python3.10/site-packages (from PyObjC->-r requirements.txt (line 3)) (8.5.1)\n",
      "Requirement already satisfied: pyobjc-framework-CoreML==8.5.1 in ./.venv/lib/python3.10/site-packages (from PyObjC->-r requirements.txt (line 3)) (8.5.1)\n",
      "Requirement already satisfied: pyobjc-framework-ServiceManagement==8.5.1 in ./.venv/lib/python3.10/site-packages (from PyObjC->-r requirements.txt (line 3)) (8.5.1)\n",
      "Requirement already satisfied: pyobjc-framework-Speech==8.5.1 in ./.venv/lib/python3.10/site-packages (from PyObjC->-r requirements.txt (line 3)) (8.5.1)\n",
      "Requirement already satisfied: pyobjc-framework-Social==8.5.1 in ./.venv/lib/python3.10/site-packages (from PyObjC->-r requirements.txt (line 3)) (8.5.1)\n",
      "Requirement already satisfied: pyobjc-framework-CalendarStore==8.5.1 in ./.venv/lib/python3.10/site-packages (from PyObjC->-r requirements.txt (line 3)) (8.5.1)\n",
      "Requirement already satisfied: pyobjc-framework-AppleScriptKit==8.5.1 in ./.venv/lib/python3.10/site-packages (from PyObjC->-r requirements.txt (line 3)) (8.5.1)\n",
      "Requirement already satisfied: contourpy>=1.0.1 in ./.venv/lib/python3.10/site-packages (from matplotlib>=3.2.2->-r requirements.txt (line 9)) (1.0.5)\n",
      "Requirement already satisfied: packaging>=20.0 in ./.venv/lib/python3.10/site-packages (from matplotlib>=3.2.2->-r requirements.txt (line 9)) (21.3)\n",
      "Requirement already satisfied: python-dateutil>=2.7 in ./.venv/lib/python3.10/site-packages (from matplotlib>=3.2.2->-r requirements.txt (line 9)) (2.8.2)\n",
      "Requirement already satisfied: cycler>=0.10 in ./.venv/lib/python3.10/site-packages (from matplotlib>=3.2.2->-r requirements.txt (line 9)) (0.11.0)\n",
      "Requirement already satisfied: fonttools>=4.22.0 in ./.venv/lib/python3.10/site-packages (from matplotlib>=3.2.2->-r requirements.txt (line 9)) (4.38.0)\n",
      "Requirement already satisfied: kiwisolver>=1.0.1 in ./.venv/lib/python3.10/site-packages (from matplotlib>=3.2.2->-r requirements.txt (line 9)) (1.4.4)\n",
      "Requirement already satisfied: pyparsing>=2.2.1 in ./.venv/lib/python3.10/site-packages (from matplotlib>=3.2.2->-r requirements.txt (line 9)) (3.0.9)\n",
      "Requirement already satisfied: idna<4,>=2.5 in ./.venv/lib/python3.10/site-packages (from requests>=2.23.0->-r requirements.txt (line 14)) (3.4)\n",
      "Requirement already satisfied: certifi>=2017.4.17 in ./.venv/lib/python3.10/site-packages (from requests>=2.23.0->-r requirements.txt (line 14)) (2022.9.24)\n",
      "Requirement already satisfied: charset-normalizer<3,>=2 in ./.venv/lib/python3.10/site-packages (from requests>=2.23.0->-r requirements.txt (line 14)) (2.1.1)\n",
      "Requirement already satisfied: urllib3<1.27,>=1.21.1 in ./.venv/lib/python3.10/site-packages (from requests>=2.23.0->-r requirements.txt (line 14)) (1.26.12)\n",
      "Requirement already satisfied: typing-extensions in ./.venv/lib/python3.10/site-packages (from torch>=1.7.0->-r requirements.txt (line 16)) (4.4.0)\n",
      "Requirement already satisfied: werkzeug>=1.0.1 in ./.venv/lib/python3.10/site-packages (from tensorboard>=2.4.1->-r requirements.txt (line 22)) (2.2.2)\n",
      "Requirement already satisfied: google-auth-oauthlib<0.5,>=0.4.1 in ./.venv/lib/python3.10/site-packages (from tensorboard>=2.4.1->-r requirements.txt (line 22)) (0.4.6)\n",
      "Requirement already satisfied: protobuf<3.20,>=3.9.2 in ./.venv/lib/python3.10/site-packages (from tensorboard>=2.4.1->-r requirements.txt (line 22)) (3.19.6)\n",
      "Requirement already satisfied: grpcio>=1.24.3 in ./.venv/lib/python3.10/site-packages (from tensorboard>=2.4.1->-r requirements.txt (line 22)) (1.50.0)\n",
      "Requirement already satisfied: tensorboard-data-server<0.7.0,>=0.6.0 in ./.venv/lib/python3.10/site-packages (from tensorboard>=2.4.1->-r requirements.txt (line 22)) (0.6.1)\n",
      "Requirement already satisfied: google-auth<3,>=1.6.3 in ./.venv/lib/python3.10/site-packages (from tensorboard>=2.4.1->-r requirements.txt (line 22)) (2.13.0)\n",
      "Requirement already satisfied: tensorboard-plugin-wit>=1.6.0 in ./.venv/lib/python3.10/site-packages (from tensorboard>=2.4.1->-r requirements.txt (line 22)) (1.8.1)\n",
      "Requirement already satisfied: markdown>=2.6.8 in ./.venv/lib/python3.10/site-packages (from tensorboard>=2.4.1->-r requirements.txt (line 22)) (3.4.1)\n",
      "Requirement already satisfied: absl-py>=0.4 in ./.venv/lib/python3.10/site-packages (from tensorboard>=2.4.1->-r requirements.txt (line 22)) (1.3.0)\n",
      "Requirement already satisfied: wheel>=0.26 in ./.venv/lib/python3.10/site-packages (from tensorboard>=2.4.1->-r requirements.txt (line 22)) (0.37.1)\n",
      "Requirement already satisfied: setuptools>=41.0.0 in ./.venv/lib/python3.10/site-packages (from tensorboard>=2.4.1->-r requirements.txt (line 22)) (63.2.0)\n",
      "Requirement already satisfied: pytz>=2020.1 in ./.venv/lib/python3.10/site-packages (from pandas>=1.1.4->-r requirements.txt (line 27)) (2022.5)\n",
      "Requirement already satisfied: pickleshare in ./.venv/lib/python3.10/site-packages (from ipython->-r requirements.txt (line 45)) (0.7.5)\n",
      "Requirement already satisfied: prompt-toolkit<3.1.0,>3.0.1 in ./.venv/lib/python3.10/site-packages (from ipython->-r requirements.txt (line 45)) (3.0.31)\n",
      "Requirement already satisfied: backcall in ./.venv/lib/python3.10/site-packages (from ipython->-r requirements.txt (line 45)) (0.2.0)\n",
      "Requirement already satisfied: pygments>=2.4.0 in ./.venv/lib/python3.10/site-packages (from ipython->-r requirements.txt (line 45)) (2.13.0)\n",
      "Requirement already satisfied: stack-data in ./.venv/lib/python3.10/site-packages (from ipython->-r requirements.txt (line 45)) (0.5.1)\n",
      "Requirement already satisfied: traitlets>=5 in ./.venv/lib/python3.10/site-packages (from ipython->-r requirements.txt (line 45)) (5.5.0)\n",
      "Requirement already satisfied: pexpect>4.3 in ./.venv/lib/python3.10/site-packages (from ipython->-r requirements.txt (line 45)) (4.8.0)\n",
      "Requirement already satisfied: appnope in ./.venv/lib/python3.10/site-packages (from ipython->-r requirements.txt (line 45)) (0.1.3)\n",
      "Requirement already satisfied: decorator in ./.venv/lib/python3.10/site-packages (from ipython->-r requirements.txt (line 45)) (5.1.1)\n",
      "Requirement already satisfied: jedi>=0.16 in ./.venv/lib/python3.10/site-packages (from ipython->-r requirements.txt (line 45)) (0.18.1)\n",
      "Requirement already satisfied: matplotlib-inline in ./.venv/lib/python3.10/site-packages (from ipython->-r requirements.txt (line 45)) (0.1.6)\n",
      "Requirement already satisfied: cachetools<6.0,>=2.0.0 in ./.venv/lib/python3.10/site-packages (from google-auth<3,>=1.6.3->tensorboard>=2.4.1->-r requirements.txt (line 22)) (5.2.0)\n",
      "Requirement already satisfied: six>=1.9.0 in ./.venv/lib/python3.10/site-packages (from google-auth<3,>=1.6.3->tensorboard>=2.4.1->-r requirements.txt (line 22)) (1.16.0)\n",
      "Requirement already satisfied: rsa<5,>=3.1.4 in ./.venv/lib/python3.10/site-packages (from google-auth<3,>=1.6.3->tensorboard>=2.4.1->-r requirements.txt (line 22)) (4.9)\n",
      "Requirement already satisfied: pyasn1-modules>=0.2.1 in ./.venv/lib/python3.10/site-packages (from google-auth<3,>=1.6.3->tensorboard>=2.4.1->-r requirements.txt (line 22)) (0.2.8)\n",
      "Requirement already satisfied: requests-oauthlib>=0.7.0 in ./.venv/lib/python3.10/site-packages (from google-auth-oauthlib<0.5,>=0.4.1->tensorboard>=2.4.1->-r requirements.txt (line 22)) (1.3.1)\n",
      "Requirement already satisfied: parso<0.9.0,>=0.8.0 in ./.venv/lib/python3.10/site-packages (from jedi>=0.16->ipython->-r requirements.txt (line 45)) (0.8.3)\n",
      "Requirement already satisfied: ptyprocess>=0.5 in ./.venv/lib/python3.10/site-packages (from pexpect>4.3->ipython->-r requirements.txt (line 45)) (0.7.0)\n",
      "Requirement already satisfied: wcwidth in ./.venv/lib/python3.10/site-packages (from prompt-toolkit<3.1.0,>3.0.1->ipython->-r requirements.txt (line 45)) (0.2.5)\n",
      "Requirement already satisfied: MarkupSafe>=2.1.1 in ./.venv/lib/python3.10/site-packages (from werkzeug>=1.0.1->tensorboard>=2.4.1->-r requirements.txt (line 22)) (2.1.1)\n",
      "Requirement already satisfied: pure-eval in ./.venv/lib/python3.10/site-packages (from stack-data->ipython->-r requirements.txt (line 45)) (0.2.2)\n",
      "Requirement already satisfied: executing in ./.venv/lib/python3.10/site-packages (from stack-data->ipython->-r requirements.txt (line 45)) (1.1.1)\n",
      "Requirement already satisfied: asttokens in ./.venv/lib/python3.10/site-packages (from stack-data->ipython->-r requirements.txt (line 45)) (2.0.8)\n",
      "Requirement already satisfied: pyasn1<0.5.0,>=0.4.6 in ./.venv/lib/python3.10/site-packages (from pyasn1-modules>=0.2.1->google-auth<3,>=1.6.3->tensorboard>=2.4.1->-r requirements.txt (line 22)) (0.4.8)\n",
      "Requirement already satisfied: oauthlib>=3.0.0 in ./.venv/lib/python3.10/site-packages (from requests-oauthlib>=0.7.0->google-auth-oauthlib<0.5,>=0.4.1->tensorboard>=2.4.1->-r requirements.txt (line 22)) (3.2.2)\n"
     ]
    }
   ],
   "source": [
    "!pip install -r requirements.txt"
   ]
  },
  {
   "cell_type": "markdown",
   "metadata": {},
   "source": [
    "Estes são todos os imports necessários para rodar este Notebook."
   ]
  },
  {
   "cell_type": "code",
   "execution_count": 54,
   "metadata": {},
   "outputs": [],
   "source": [
    "import torch\n",
    "import pandas as pd\n",
    "from gtts import gTTS"
   ]
  },
  {
   "cell_type": "markdown",
   "metadata": {},
   "source": [
    "Agora vamos carregar o modelo pré-treinado do hub do Torch. Esse modelo é baseado na YOLOv5 e está pré-treinada com a base COCO Dataset. Caso seja a primeira execução, a API vai realizar o download automático do modelo. Mas caso o modelo já tiver sido baixado, a API do Torch consegue reaproveitar o arquivo, ficando mais rápida a carga.\n",
    "\n",
    "Esse dataset de imagens possui 80 categorias de objetos diversos. Futuramente é possível treinar o modelo com outros datasets, como o do OpenImages do Google, que possui 600 categorias por exemplo.\n",
    "\n",
    "O endereço do projeto YOLOv5 é: https://github.com/ultralytics/yolov5\n",
    "O endereço do projeto COCO Dataset é: https://cocodataset.org/"
   ]
  },
  {
   "cell_type": "code",
   "execution_count": 55,
   "metadata": {},
   "outputs": [
    {
     "name": "stderr",
     "output_type": "stream",
     "text": [
      "Using cache found in /Users/diego/.cache/torch/hub/ultralytics_yolov5_master\n",
      "INFO:yolov5:\u001b[31m\u001b[1mrequirements:\u001b[0m YOLOv5 requirement \"seaborn>=0.11.0\" not found, attempting AutoUpdate...\n",
      "\u001b[31m\u001b[1mrequirements:\u001b[0m YOLOv5 requirement \"seaborn>=0.11.0\" not found, attempting AutoUpdate...\n",
      "INFO:yolov5:Requirement already satisfied: seaborn>=0.11.0 in ./.venv/lib/python3.10/site-packages (0.12.1)\n",
      "Requirement already satisfied: numpy>=1.17 in ./.venv/lib/python3.10/site-packages (from seaborn>=0.11.0) (1.23.4)\n",
      "Requirement already satisfied: matplotlib!=3.6.1,>=3.1 in ./.venv/lib/python3.10/site-packages (from seaborn>=0.11.0) (3.6.0)\n",
      "Requirement already satisfied: pandas>=0.25 in ./.venv/lib/python3.10/site-packages (from seaborn>=0.11.0) (1.5.1)\n",
      "Requirement already satisfied: packaging>=20.0 in ./.venv/lib/python3.10/site-packages (from matplotlib!=3.6.1,>=3.1->seaborn>=0.11.0) (21.3)\n",
      "Requirement already satisfied: kiwisolver>=1.0.1 in ./.venv/lib/python3.10/site-packages (from matplotlib!=3.6.1,>=3.1->seaborn>=0.11.0) (1.4.4)\n",
      "Requirement already satisfied: contourpy>=1.0.1 in ./.venv/lib/python3.10/site-packages (from matplotlib!=3.6.1,>=3.1->seaborn>=0.11.0) (1.0.5)\n",
      "Requirement already satisfied: cycler>=0.10 in ./.venv/lib/python3.10/site-packages (from matplotlib!=3.6.1,>=3.1->seaborn>=0.11.0) (0.11.0)\n",
      "Requirement already satisfied: pillow>=6.2.0 in ./.venv/lib/python3.10/site-packages (from matplotlib!=3.6.1,>=3.1->seaborn>=0.11.0) (9.2.0)\n",
      "Requirement already satisfied: python-dateutil>=2.7 in ./.venv/lib/python3.10/site-packages (from matplotlib!=3.6.1,>=3.1->seaborn>=0.11.0) (2.8.2)\n",
      "Requirement already satisfied: pyparsing>=2.2.1 in ./.venv/lib/python3.10/site-packages (from matplotlib!=3.6.1,>=3.1->seaborn>=0.11.0) (3.0.9)\n",
      "Requirement already satisfied: fonttools>=4.22.0 in ./.venv/lib/python3.10/site-packages (from matplotlib!=3.6.1,>=3.1->seaborn>=0.11.0) (4.38.0)\n",
      "Requirement already satisfied: pytz>=2020.1 in ./.venv/lib/python3.10/site-packages (from pandas>=0.25->seaborn>=0.11.0) (2022.5)\n",
      "Requirement already satisfied: six>=1.5 in ./.venv/lib/python3.10/site-packages (from python-dateutil>=2.7->matplotlib!=3.6.1,>=3.1->seaborn>=0.11.0) (1.16.0)\n",
      "\n",
      "Requirement already satisfied: seaborn>=0.11.0 in ./.venv/lib/python3.10/site-packages (0.12.1)\n",
      "Requirement already satisfied: numpy>=1.17 in ./.venv/lib/python3.10/site-packages (from seaborn>=0.11.0) (1.23.4)\n",
      "Requirement already satisfied: matplotlib!=3.6.1,>=3.1 in ./.venv/lib/python3.10/site-packages (from seaborn>=0.11.0) (3.6.0)\n",
      "Requirement already satisfied: pandas>=0.25 in ./.venv/lib/python3.10/site-packages (from seaborn>=0.11.0) (1.5.1)\n",
      "Requirement already satisfied: packaging>=20.0 in ./.venv/lib/python3.10/site-packages (from matplotlib!=3.6.1,>=3.1->seaborn>=0.11.0) (21.3)\n",
      "Requirement already satisfied: kiwisolver>=1.0.1 in ./.venv/lib/python3.10/site-packages (from matplotlib!=3.6.1,>=3.1->seaborn>=0.11.0) (1.4.4)\n",
      "Requirement already satisfied: contourpy>=1.0.1 in ./.venv/lib/python3.10/site-packages (from matplotlib!=3.6.1,>=3.1->seaborn>=0.11.0) (1.0.5)\n",
      "Requirement already satisfied: cycler>=0.10 in ./.venv/lib/python3.10/site-packages (from matplotlib!=3.6.1,>=3.1->seaborn>=0.11.0) (0.11.0)\n",
      "Requirement already satisfied: pillow>=6.2.0 in ./.venv/lib/python3.10/site-packages (from matplotlib!=3.6.1,>=3.1->seaborn>=0.11.0) (9.2.0)\n",
      "Requirement already satisfied: python-dateutil>=2.7 in ./.venv/lib/python3.10/site-packages (from matplotlib!=3.6.1,>=3.1->seaborn>=0.11.0) (2.8.2)\n",
      "Requirement already satisfied: pyparsing>=2.2.1 in ./.venv/lib/python3.10/site-packages (from matplotlib!=3.6.1,>=3.1->seaborn>=0.11.0) (3.0.9)\n",
      "Requirement already satisfied: fonttools>=4.22.0 in ./.venv/lib/python3.10/site-packages (from matplotlib!=3.6.1,>=3.1->seaborn>=0.11.0) (4.38.0)\n",
      "Requirement already satisfied: pytz>=2020.1 in ./.venv/lib/python3.10/site-packages (from pandas>=0.25->seaborn>=0.11.0) (2022.5)\n",
      "Requirement already satisfied: six>=1.5 in ./.venv/lib/python3.10/site-packages (from python-dateutil>=2.7->matplotlib!=3.6.1,>=3.1->seaborn>=0.11.0) (1.16.0)\n",
      "\n",
      "INFO:yolov5:\u001b[31m\u001b[1mrequirements:\u001b[0m 1 package updated per /Users/diego/.cache/torch/hub/ultralytics_yolov5_master/requirements.txt\n",
      "\u001b[31m\u001b[1mrequirements:\u001b[0m ⚠️ \u001b[1mRestart runtime or rerun command for updates to take effect\u001b[0m\n",
      "\n",
      "\u001b[31m\u001b[1mrequirements:\u001b[0m 1 package updated per /Users/diego/.cache/torch/hub/ultralytics_yolov5_master/requirements.txt\n",
      "\u001b[31m\u001b[1mrequirements:\u001b[0m ⚠️ \u001b[1mRestart runtime or rerun command for updates to take effect\u001b[0m\n",
      "\n",
      "INFO:yolov5:YOLOv5 🚀 2022-10-23 Python-3.10.7 torch-1.12.1 CPU\n",
      "\n",
      "YOLOv5 🚀 2022-10-23 Python-3.10.7 torch-1.12.1 CPU\n",
      "\n",
      "INFO:yolov5:Fusing layers... \n",
      "Fusing layers... \n",
      "INFO:yolov5:YOLOv5x6 summary: 574 layers, 140730220 parameters, 0 gradients\n",
      "YOLOv5x6 summary: 574 layers, 140730220 parameters, 0 gradients\n",
      "INFO:yolov5:Adding AutoShape... \n",
      "Adding AutoShape... \n"
     ]
    }
   ],
   "source": [
    "# Load Model (yolov5s, yolov5x6)\n",
    "model = torch.hub.load('ultralytics/yolov5', 'yolov5x6')"
   ]
  },
  {
   "cell_type": "markdown",
   "metadata": {},
   "source": [
    "Esta função recebe uma imagem, que é então enviada para o modelo realizar a detecção dos objetos contidos na mesma. A função retorna um dataframe do Pandas com as informações de todos os objetos identificados."
   ]
  },
  {
   "cell_type": "code",
   "execution_count": 56,
   "metadata": {},
   "outputs": [],
   "source": [
    "def infer_img(img):\n",
    "    '''\n",
    "    Esta função recebe uma imagem e retorna um Pandas dataframe com os objetos identificados.\n",
    "    '''\n",
    "    results = model(img)\n",
    "\n",
    "    df = pd.DataFrame(results.pandas().xyxy[0])\n",
    "    return df"
   ]
  },
  {
   "cell_type": "markdown",
   "metadata": {},
   "source": [
    "Esta função recebe o dataframe gerado e é responsável por \"contar\" os objetos dentro da imagem. Ela retorna um dicionário onde o 'key' é o nome do objeto e o 'value' é o número de ocorrências dentro da imagem."
   ]
  },
  {
   "cell_type": "code",
   "execution_count": 57,
   "metadata": {},
   "outputs": [],
   "source": [
    "def get_result(df):\n",
    "    result = {}\n",
    "    def count_names(name):\n",
    "        i = 0\n",
    "        try:\n",
    "            i = result[name]\n",
    "        except:\n",
    "            pass\n",
    "        i += 1\n",
    "        result[name] = i\n",
    "\n",
    "    df['name'].map(count_names)\n",
    "    return result"
   ]
  },
  {
   "cell_type": "markdown",
   "metadata": {},
   "source": [
    "Estas duas funções são responsáveis por gerar um texto reprensentando os objetos encontrados (ou não) na imagem. A função 'get_text' retorna uma string com a descrição dos objetos da imagem."
   ]
  },
  {
   "cell_type": "code",
   "execution_count": 58,
   "metadata": {},
   "outputs": [],
   "source": [
    "def get_plural(word, count):\n",
    "    if count > 1:\n",
    "        return word + 's'\n",
    "    else:\n",
    "        return word\n",
    "\n",
    "def get_text(result):\n",
    "    text = ''\n",
    "    if len(result) == 0:\n",
    "        text = 'I wasn\\'t able to identify anything in front of you.'\n",
    "    else:\n",
    "        text = 'There are '\n",
    "        i = 0\n",
    "        for name in result:\n",
    "            i += 1\n",
    "            count = result[name]\n",
    "            text += str(count) + ' ' + get_plural(name, count)\n",
    "            if i == len(result) - 1:\n",
    "                text += ' and '\n",
    "            elif i == len(result):\n",
    "                text += ' '\n",
    "            else:\n",
    "                text += ', '\n",
    "        text += 'in front of you'\n",
    "    return text"
   ]
  },
  {
   "cell_type": "markdown",
   "metadata": {},
   "source": [
    "Esta função recebe o texto gerado o transforma em áudio usando a API do Google Text-to-Speech. Por fim, ela executa o áudio gerado usando a biblioteca 'playsound'."
   ]
  },
  {
   "cell_type": "code",
   "execution_count": 48,
   "metadata": {},
   "outputs": [],
   "source": [
    "def play(text):\n",
    "    if not text:\n",
    "        return\n",
    "    \n",
    "    lang = 'en'\n",
    "\n",
    "    gtts_obj = gTTS(text=text, lang=lang)\n",
    "    gtts_obj.save('audio.wav')\n",
    "\n",
    "    print(text)\n",
    "    from playsound import playsound\n",
    "    playsound('audio.wav')"
   ]
  },
  {
   "cell_type": "markdown",
   "metadata": {},
   "source": [
    "Esta função é responsável por executar o código externo que tira uma foto usando a câmera padrão do dispositivo. Aqui é usado OpenCV para acessar a câmera, tirar a foto e salvá-la temporariamente."
   ]
  },
  {
   "cell_type": "code",
   "execution_count": 59,
   "metadata": {},
   "outputs": [],
   "source": [
    "def take_photo():\n",
    "    !python camera.py"
   ]
  },
  {
   "cell_type": "markdown",
   "metadata": {},
   "source": [
    "Este é o código que poderá ser executado sempre que for necessário identificar os objetos. Posteriormente a idéia é fazer com que o sistema execute esse código atravez de um comando de voz, tornando a iteração manual quase inexistente e facilitando a acessibilidade do usuário final."
   ]
  },
  {
   "cell_type": "code",
   "execution_count": 60,
   "metadata": {},
   "outputs": [
    {
     "name": "stdout",
     "output_type": "stream",
     "text": [
      "There are 1 person in front of you\n"
     ]
    }
   ],
   "source": [
    "\n",
    "take_photo()\n",
    "df = infer_img('image.jpg')\n",
    "result = get_result(df)\n",
    "text = get_text(result)\n",
    "play(text)"
   ]
  },
  {
   "cell_type": "code",
   "execution_count": null,
   "metadata": {},
   "outputs": [],
   "source": []
  }
 ],
 "metadata": {
  "kernelspec": {
   "display_name": "Python 3.10.7 ('.venv': venv)",
   "language": "python",
   "name": "python3"
  },
  "language_info": {
   "codemirror_mode": {
    "name": "ipython",
    "version": 3
   },
   "file_extension": ".py",
   "mimetype": "text/x-python",
   "name": "python",
   "nbconvert_exporter": "python",
   "pygments_lexer": "ipython3",
   "version": "3.10.7"
  },
  "orig_nbformat": 4,
  "vscode": {
   "interpreter": {
    "hash": "a32cffcf89ad5cbfffe09daf321ec7a1767388d1140d44d9c348d43191935f4e"
   }
  }
 },
 "nbformat": 4,
 "nbformat_minor": 2
}
