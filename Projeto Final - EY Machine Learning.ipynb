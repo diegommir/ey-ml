{
 "cells": [
  {
   "cell_type": "code",
   "execution_count": null,
   "metadata": {},
   "outputs": [],
   "source": [
    "!pip install -r requirements.txt"
   ]
  },
  {
   "cell_type": "code",
   "execution_count": 28,
   "metadata": {},
   "outputs": [],
   "source": [
    "import torch\n",
    "import pandas as pd\n",
    "from gtts import gTTS"
   ]
  },
  {
   "cell_type": "code",
   "execution_count": 25,
   "metadata": {},
   "outputs": [
    {
     "name": "stderr",
     "output_type": "stream",
     "text": [
      "Using cache found in /Users/diego/.cache/torch/hub/ultralytics_yolov5_master\n",
      "INFO:yolov5:YOLOv5 🚀 2022-10-23 Python-3.10.7 torch-1.12.1 CPU\n",
      "\n",
      "YOLOv5 🚀 2022-10-23 Python-3.10.7 torch-1.12.1 CPU\n",
      "\n",
      "INFO:yolov5:Fusing layers... \n",
      "Fusing layers... \n"
     ]
    },
    {
     "name": "stdout",
     "output_type": "stream",
     "text": [
      "[Errno 2] No such file or directory: '/Users/diego/Documents/Workspace/ey-ml/.venv/lib/python3.10/site-packages/matplotlib-3.6.1.dist-info/METADATA'\n"
     ]
    },
    {
     "name": "stderr",
     "output_type": "stream",
     "text": [
      "INFO:yolov5:YOLOv5x6 summary: 574 layers, 140730220 parameters, 0 gradients\n",
      "YOLOv5x6 summary: 574 layers, 140730220 parameters, 0 gradients\n",
      "INFO:yolov5:Adding AutoShape... \n",
      "Adding AutoShape... \n"
     ]
    }
   ],
   "source": [
    "# Load Model (yolov5s, yolov5x6)\n",
    "model = torch.hub.load('ultralytics/yolov5', 'yolov5x6')"
   ]
  },
  {
   "cell_type": "code",
   "execution_count": 26,
   "metadata": {},
   "outputs": [],
   "source": [
    "def infer_img(img):\n",
    "    '''\n",
    "    Esta função recebe uma imagem e retorna um Pandas dataframe com os objetos identificados.\n",
    "    '''\n",
    "    results = model(img)\n",
    "\n",
    "    df = pd.DataFrame(results.pandas().xyxy[0])\n",
    "    return df"
   ]
  },
  {
   "cell_type": "code",
   "execution_count": 32,
   "metadata": {},
   "outputs": [],
   "source": [
    "def get_result(df):\n",
    "    result = {}\n",
    "    def count_names(name):\n",
    "        i = 0\n",
    "        try:\n",
    "            i = result[name]\n",
    "        except:\n",
    "            pass\n",
    "        i += 1\n",
    "        result[name] = i\n",
    "\n",
    "    df['name'].map(count_names)\n",
    "    return result"
   ]
  },
  {
   "cell_type": "code",
   "execution_count": 36,
   "metadata": {},
   "outputs": [],
   "source": [
    "def get_plural(word, count):\n",
    "    if count > 1:\n",
    "        return word + 's'\n",
    "    else:\n",
    "        return word\n",
    "\n",
    "def get_text(result):\n",
    "    text = ''\n",
    "    if len(result) == 0:\n",
    "        text = 'I wasn\\'t able to identify anything in front of you.'\n",
    "    else:\n",
    "        text = 'There are '\n",
    "        i = 0\n",
    "        for name in result:\n",
    "            i += 1\n",
    "            count = result[name]\n",
    "            text += str(count) + ' ' + get_plural(name, count)\n",
    "            if i == len(result) - 1:\n",
    "                text += ' and '\n",
    "            elif i == len(result):\n",
    "                text += ' '\n",
    "            else:\n",
    "                text += ', '\n",
    "        text += 'in front of you'\n",
    "    return text"
   ]
  },
  {
   "cell_type": "code",
   "execution_count": 37,
   "metadata": {},
   "outputs": [],
   "source": [
    "def play(text):\n",
    "    if not text:\n",
    "        return\n",
    "    \n",
    "    lang = 'en'\n",
    "\n",
    "    gtts_obj = gTTS(text=text, lang=lang)\n",
    "    gtts_obj.save('audio.wav')\n",
    "\n",
    "    print(text)\n",
    "    from playsound import playsound\n",
    "    playsound('audio.wav')"
   ]
  },
  {
   "cell_type": "code",
   "execution_count": 40,
   "metadata": {},
   "outputs": [
    {
     "name": "stderr",
     "output_type": "stream",
     "text": [
      "INFO:yolov5:image 1/1: 960x1440 1 person, 2 chairs\n",
      "Speed: 12.7ms pre-process, 459.2ms inference, 0.6ms NMS per image at shape (1, 3, 448, 640)\n",
      "image 1/1: 960x1440 1 person, 2 chairs\n",
      "Speed: 12.7ms pre-process, 459.2ms inference, 0.6ms NMS per image at shape (1, 3, 448, 640)\n"
     ]
    }
   ],
   "source": [
    "\n",
    "df = infer_img('./dependencias/foto.jpg')\n",
    "result = get_result(df)\n",
    "text = get_text(result)\n",
    "\n",
    "play(text)"
   ]
  },
  {
   "cell_type": "code",
   "execution_count": null,
   "metadata": {},
   "outputs": [],
   "source": []
  }
 ],
 "metadata": {
  "kernelspec": {
   "display_name": "Python 3.10.7 ('.venv': venv)",
   "language": "python",
   "name": "python3"
  },
  "language_info": {
   "codemirror_mode": {
    "name": "ipython",
    "version": 3
   },
   "file_extension": ".py",
   "mimetype": "text/x-python",
   "name": "python",
   "nbconvert_exporter": "python",
   "pygments_lexer": "ipython3",
   "version": "3.10.7"
  },
  "orig_nbformat": 4,
  "vscode": {
   "interpreter": {
    "hash": "a32cffcf89ad5cbfffe09daf321ec7a1767388d1140d44d9c348d43191935f4e"
   }
  }
 },
 "nbformat": 4,
 "nbformat_minor": 2
}
